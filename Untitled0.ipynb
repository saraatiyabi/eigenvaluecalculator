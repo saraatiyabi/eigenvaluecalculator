{
  "nbformat": 4,
  "nbformat_minor": 0,
  "metadata": {
    "colab": {
      "provenance": [],
      "authorship_tag": "ABX9TyManhEhGP0nVwLZfI2qxKqM",
      "include_colab_link": true
    },
    "kernelspec": {
      "name": "python3",
      "display_name": "Python 3"
    },
    "language_info": {
      "name": "python"
    }
  },
  "cells": [
    {
      "cell_type": "markdown",
      "metadata": {
        "id": "view-in-github",
        "colab_type": "text"
      },
      "source": [
        "<a href=\"https://colab.research.google.com/github/saraatiyabi/eigenvaluecalculator/blob/main/Untitled0.ipynb\" target=\"_parent\"><img src=\"https://colab.research.google.com/assets/colab-badge.svg\" alt=\"Open In Colab\"/></a>"
      ]
    },
    {
      "cell_type": "code",
      "execution_count": 2,
      "metadata": {
        "id": "bd9529db1c0b"
      },
      "outputs": [],
      "source": [
        "try:\n",
        "    import cirq\n",
        "except ImportError:\n",
        "    print(\"installing cirq...\")\n",
        "    !pip install --quiet cirq\n",
        "    print(\"installed cirq.\")\n",
        "    import cirq"
      ]
    },
    {
      "cell_type": "code",
      "source": [
        "# Create a circuit to generate a Bell State:\n",
        "# 1/sqrt(2) * ( |00⟩ + |11⟩ )\n",
        "bell_circuit = cirq.Circuit()\n",
        "q0, q1 = cirq.LineQubit.range(2)\n",
        "bell_circuit.append(cirq.H(q0))\n",
        "bell_circuit.append(cirq.CNOT(q0, q1))\n",
        "\n",
        "# Initialize Simulator\n",
        "s = cirq.Simulator()\n",
        "\n",
        "print('Simulate the circuit:')\n",
        "results = s.simulate(bell_circuit)\n",
        "print(results)\n",
        "\n",
        "# For sampling, we need to add a measurement at the end\n",
        "bell_circuit.append(cirq.measure(q0, q1, key='result'))\n",
        "\n",
        "# Sample the circuit\n",
        "samples = s.run(bell_circuit, repetitions=1000)"
      ],
      "metadata": {
        "colab": {
          "base_uri": "https://localhost:8080/"
        },
        "id": "BA27igmumOBn",
        "outputId": "72b37a61-6289-48cd-a2f5-6735f5bd2932"
      },
      "execution_count": 3,
      "outputs": [
        {
          "output_type": "stream",
          "name": "stdout",
          "text": [
            "Simulate the circuit:\n",
            "measurements: (no measurements)\n",
            "\n",
            "qubits: (cirq.LineQubit(0), cirq.LineQubit(1))\n",
            "output vector: 0.707|00⟩ + 0.707|11⟩\n",
            "\n",
            "phase:\n",
            "output vector: |⟩\n"
          ]
        }
      ]
    }
  ]
}